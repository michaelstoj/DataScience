{
 "cells": [
  {
   "cell_type": "code",
   "execution_count": 29,
   "metadata": {},
   "outputs": [],
   "source": [
    "from bs4 import BeautifulSoup\n",
    "import requests\n",
    "\n",
    "#html_page = \"virgin_and_logan_airport.html\""
   ]
  },
  {
   "cell_type": "code",
   "execution_count": 30,
   "metadata": {},
   "outputs": [],
   "source": [
    "r = requests.get(\"https://www.transtats.bts.gov/Data_Elements.aspx?Data=2\")\n",
    "\n",
    "\n",
    "data={'AirportList': \"BOS\",\n",
    "      'CarrierList': \"VX\",\n",
    "      'Submit': 'Submit',\n",
    "      \"__EVENTTARGET\": \"\",\n",
    "      \"__EVENTARGUMENT\": \"\",\n",
    "      \"__EVENTVALIDATION\": \"\",\n",
    "      \"__VIEWSTATE\": \"\",\n",
    "      \"__VIEWSTATEGENERATOR\": \"\"\n",
    "}\n"
   ]
  },
  {
   "cell_type": "code",
   "execution_count": 31,
   "metadata": {},
   "outputs": [
    {
     "name": "stdout",
     "output_type": "stream",
     "text": [
      "8E3A4798\n"
     ]
    }
   ],
   "source": [
    "print(data[\"viewstategenerator\"])"
   ]
  }
 ],
 "metadata": {
  "kernelspec": {
   "display_name": "Python 3",
   "language": "python",
   "name": "python3"
  },
  "language_info": {
   "codemirror_mode": {
    "name": "ipython",
    "version": 3
   },
   "file_extension": ".py",
   "mimetype": "text/x-python",
   "name": "python",
   "nbconvert_exporter": "python",
   "pygments_lexer": "ipython3",
   "version": "3.7.3"
  }
 },
 "nbformat": 4,
 "nbformat_minor": 2
}
