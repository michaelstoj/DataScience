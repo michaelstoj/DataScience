{
 "cells": [
  {
   "cell_type": "code",
   "execution_count": 21,
   "metadata": {},
   "outputs": [],
   "source": [
    "import requests\n",
    "from bs4 import BeautifulSoup"
   ]
  },
  {
   "cell_type": "code",
   "execution_count": 22,
   "metadata": {},
   "outputs": [],
   "source": [
    "data={'AirportList': \"BOS\",\n",
    "      'CarrierList': \"VX\",\n",
    "      'Submit': 'Submit',\n",
    "      \"__EVENTTARGET\": \"\",\n",
    "      \"__EVENTARGUMENT\": \"\",\n",
    "      \"__EVENTVALIDATION\": \"\",\n",
    "      \"__VIEWSTATE\": \"\",\n",
    "      \"__VIEWSTATEGENERATOR\": \"\"\n",
    "}\n",
    "\n",
    "r = requests.get(\"https://www.transtats.bts.gov/Data_Elements.aspx?Data=2\")\n",
    "soup = BeautifulSoup(r.text)\n",
    "\n",
    "viewstategenerator = soup.find(id='__VIEWSTATEGENERATOR')\n",
    "data[\"__VIEWSTATEGENERATOR\"] = viewstategenerator['value']      # or data[\"eventvalidation\"] = eventvalidation.get('value')\n",
    "\n",
    "eventvalidation = soup.find(id='__EVENTVALIDATION')\n",
    "data[\"__EVENTVALIDATION\"] = eventvalidation['value']      # or data[\"eventvalidation\"] = eventvalidation.get('value')\n",
    "\n",
    "viewstate = soup.find(id='__VIEWSTATE')\n",
    "data[\"__VIEWSTATE\"] = viewstate['value']        # or   data[\"viewstate\"] = viewstate.get('value')"
   ]
  },
  {
   "cell_type": "code",
   "execution_count": 23,
   "metadata": {},
   "outputs": [],
   "source": [
    "r = requests.post(\"https://www.transtats.bts.gov/Data_Elements.aspx?Data=2\", data)"
   ]
  },
  {
   "cell_type": "code",
   "execution_count": 24,
   "metadata": {},
   "outputs": [],
   "source": [
    "f = open(\"virgin_and_logan_airport.html\", \"w\")\n",
    "print(r.text, file=f)\n",
    "f.close()"
   ]
  }
 ],
 "metadata": {
  "kernelspec": {
   "display_name": "Python 3",
   "language": "python",
   "name": "python3"
  },
  "language_info": {
   "codemirror_mode": {
    "name": "ipython",
    "version": 3
   },
   "file_extension": ".py",
   "mimetype": "text/x-python",
   "name": "python",
   "nbconvert_exporter": "python",
   "pygments_lexer": "ipython3",
   "version": "3.7.3"
  }
 },
 "nbformat": 4,
 "nbformat_minor": 2
}
