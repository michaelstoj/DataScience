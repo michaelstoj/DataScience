{
 "cells": [
  {
   "cell_type": "code",
   "execution_count": 474,
   "metadata": {
    "scrolled": false
   },
   "outputs": [
    {
     "data": {
      "text/html": [
       "<div>\n",
       "<style scoped>\n",
       "    .dataframe tbody tr th:only-of-type {\n",
       "        vertical-align: middle;\n",
       "    }\n",
       "\n",
       "    .dataframe tbody tr th {\n",
       "        vertical-align: top;\n",
       "    }\n",
       "\n",
       "    .dataframe thead th {\n",
       "        text-align: right;\n",
       "    }\n",
       "</style>\n",
       "<table border=\"1\" class=\"dataframe\">\n",
       "  <thead>\n",
       "    <tr style=\"text-align: right;\">\n",
       "      <th></th>\n",
       "      <th>timestamp</th>\n",
       "      <th>id</th>\n",
       "      <th>group</th>\n",
       "      <th>action</th>\n",
       "    </tr>\n",
       "  </thead>\n",
       "  <tbody>\n",
       "    <tr>\n",
       "      <th>0</th>\n",
       "      <td>2016-09-24 17:42:27.839496</td>\n",
       "      <td>804196</td>\n",
       "      <td>experiment</td>\n",
       "      <td>False</td>\n",
       "    </tr>\n",
       "    <tr>\n",
       "      <th>1</th>\n",
       "      <td>2016-09-24 19:19:03.542569</td>\n",
       "      <td>434745</td>\n",
       "      <td>experiment</td>\n",
       "      <td>False</td>\n",
       "    </tr>\n",
       "    <tr>\n",
       "      <th>2</th>\n",
       "      <td>2016-09-24 19:36:00.944135</td>\n",
       "      <td>507599</td>\n",
       "      <td>experiment</td>\n",
       "      <td>False</td>\n",
       "    </tr>\n",
       "    <tr>\n",
       "      <th>3</th>\n",
       "      <td>2016-09-24 19:59:02.646620</td>\n",
       "      <td>671993</td>\n",
       "      <td>control</td>\n",
       "      <td>False</td>\n",
       "    </tr>\n",
       "    <tr>\n",
       "      <th>4</th>\n",
       "      <td>2016-09-24 20:26:14.466886</td>\n",
       "      <td>536734</td>\n",
       "      <td>experiment</td>\n",
       "      <td>False</td>\n",
       "    </tr>\n",
       "  </tbody>\n",
       "</table>\n",
       "</div>"
      ],
      "text/plain": [
       "                    timestamp      id       group  action\n",
       "0  2016-09-24 17:42:27.839496  804196  experiment   False\n",
       "1  2016-09-24 19:19:03.542569  434745  experiment   False\n",
       "2  2016-09-24 19:36:00.944135  507599  experiment   False\n",
       "3  2016-09-24 19:59:02.646620  671993     control   False\n",
       "4  2016-09-24 20:26:14.466886  536734  experiment   False"
      ]
     },
     "execution_count": 474,
     "metadata": {},
     "output_type": "execute_result"
    }
   ],
   "source": [
    "import pandas as pd\n",
    "import numpy as np\n",
    "import matplotlib.pyplot as plt\n",
    "\n",
    "import datetime\n",
    "from datetime import date\n",
    "from datetime import datetime\n",
    "\n",
    "\n",
    "%matplotlib inline\n",
    "np.random.seed(42)\n",
    "\n",
    "df = pd.read_csv('homepage_actions.csv')\n",
    "\n",
    "# I converted action to either True of False for easier calcuation\n",
    "df['action'] = df['action'].map({'click':True ,'view':False})\n",
    "\n",
    "\n",
    "df.head()\n",
    "#df.count()\n",
    "#df.describe()"
   ]
  },
  {
   "cell_type": "markdown",
   "metadata": {},
   "source": [
    "## Your task is to analyze these actions to see if there was significant difference in performance of the two versiosns."
   ]
  },
  {
   "cell_type": "markdown",
   "metadata": {},
   "source": [
    "### 1. What are the null and alternative hypotheses?\n",
    "Use $CTR_{old}$ and $CTR_{new}$ in your hypotheses.\n",
    "\n",
    "$$H_0: $$ The new version is the same as the old version.\n",
    "$$H_1: $$ The new version is better than the old version"
   ]
  },
  {
   "cell_type": "markdown",
   "metadata": {},
   "source": [
    "### 2. Find the total number of actions "
   ]
  },
  {
   "cell_type": "code",
   "execution_count": 456,
   "metadata": {},
   "outputs": [
    {
     "name": "stdout",
     "output_type": "stream",
     "text": [
      "['experiment' 'control'] are the groups\n",
      "[False  True] are the types\n",
      "            timestamp    id  action\n",
      "group                              \n",
      "control          4264  4264    4264\n",
      "experiment       3924  3924    3924\n"
     ]
    }
   ],
   "source": [
    "print(df.group.unique(), 'are the groups')\n",
    "print(df.action.unique(), 'are the types')\n",
    "#print( df[df['action'] == 'view'] ) # 6328\n",
    "\n",
    "print(df.groupby('group').count()) "
   ]
  },
  {
   "cell_type": "markdown",
   "metadata": {},
   "source": [
    "### 3. Find the number of unique users"
   ]
  },
  {
   "cell_type": "code",
   "execution_count": 457,
   "metadata": {},
   "outputs": [
    {
     "name": "stdout",
     "output_type": "stream",
     "text": [
      "number unique values:  6328\n"
     ]
    }
   ],
   "source": [
    "cnt = 0\n",
    "uniqId = []\n",
    "  \n",
    "for i in range(0, len(df['id'])):\n",
    "    if df['id'][i] not in uniqId: \n",
    "        uniqId.append(df['id'][i])          \n",
    "        cnt += 1\n",
    "        \n",
    "print('number unique values: ', cnt)\n",
    "\n"
   ]
  },
  {
   "cell_type": "markdown",
   "metadata": {},
   "source": [
    "### 4. Find the sizes of the control and experiment groups (i.e., the number of unique users in each group)"
   ]
  },
  {
   "cell_type": "code",
   "execution_count": 458,
   "metadata": {},
   "outputs": [
    {
     "name": "stdout",
     "output_type": "stream",
     "text": [
      "timestamp    6328\n",
      "id           6328\n",
      "group        6328\n",
      "action       6328\n",
      "dtype: int64\n",
      "timestamp    2996\n",
      "id           2996\n",
      "group        2996\n",
      "action       2996\n",
      "dtype: int64\n",
      "timestamp    3332\n",
      "id           3332\n",
      "group        3332\n",
      "action       3332\n",
      "dtype: int64\n"
     ]
    }
   ],
   "source": [
    "#print(df[df['group'] == 'experiment']) # 3924\n",
    "#print(df[df['group'] == 'control']) # 4264\n",
    "\n",
    "df.sort_values('id', inplace=True)\n",
    "df.drop_duplicates(subset='id', inplace=True)\n",
    "print(df.count())\n",
    "\n",
    "print(df[df['group'] == 'experiment'].count()) # experiment count: 2996\n",
    "print(df[df['group'] == 'control'].count()) # control count: 3332\n"
   ]
  },
  {
   "cell_type": "markdown",
   "metadata": {},
   "source": [
    "### 5. How long was the experiment run for? \n",
    "Hint: the records in this dataset are ordered by timestamp in increasing order"
   ]
  },
  {
   "cell_type": "code",
   "execution_count": 459,
   "metadata": {},
   "outputs": [
    {
     "name": "stdout",
     "output_type": "stream",
     "text": [
      "diff in hours:  2776.6946638419445\n",
      "diff in days:  116\n"
     ]
    }
   ],
   "source": [
    "df.sort_values('timestamp', inplace=True)\n",
    "firstDay = df.iloc[0]['timestamp']\n",
    "lastDay = df.iloc[len(df)-1]['timestamp']\n",
    "\n",
    "date_format_str = '%Y-%m-%d %H:%M:%S.%f'\n",
    "\n",
    "date_1 = firstDay\n",
    "date_2 = lastDay\n",
    "\n",
    "start = datetime.strptime(date_1, date_format_str)\n",
    "end =   datetime.strptime(date_2, date_format_str)\n",
    "\n",
    "diff = end - start\n",
    "\n",
    "# Get interval between two timstamps as timedelta object\n",
    "diff_in_hours = diff.total_seconds() / 3600\n",
    "print(\"diff in hours: \", diff_in_hours)\n",
    "\n",
    "# get the difference between two dates as timedelta object\n",
    "diff = end.date() - start.date()\n",
    "print(\"diff in days: \", diff.days)"
   ]
  },
  {
   "cell_type": "markdown",
   "metadata": {},
   "source": [
    "### 6. What action types are recorded in this dataset?\n",
    "(i.e., What are the unique values in the action column?)"
   ]
  },
  {
   "cell_type": "code",
   "execution_count": 460,
   "metadata": {},
   "outputs": [
    {
     "name": "stdout",
     "output_type": "stream",
     "text": [
      "[False  True] are the types\n",
      "        timestamp    id  group\n",
      "action                        \n",
      "False        5390  5390   5390\n",
      "True          938   938    938\n"
     ]
    }
   ],
   "source": [
    "print(df.action.unique(), 'are the types')\n",
    "print(df.groupby('action').count())"
   ]
  },
  {
   "cell_type": "markdown",
   "metadata": {},
   "source": [
    "### 7. Compute the click-through rate for each group."
   ]
  },
  {
   "cell_type": "code",
   "execution_count": 461,
   "metadata": {},
   "outputs": [
    {
     "name": "stdout",
     "output_type": "stream",
     "text": [
      "id        568110.623667\n",
      "action         1.000000\n",
      "dtype: float64\n",
      "the CTR for experiment:  17.95275590551181\n",
      "the CTR for control:  16.912280701754387\n"
     ]
    },
    {
     "name": "stderr",
     "output_type": "stream",
     "text": [
      "C:\\Users\\mikes\\Anaconda3\\lib\\site-packages\\pandas\\core\\ops.py:1649: FutureWarning: elementwise comparison failed; returning scalar instead, but in the future will perform elementwise comparison\n",
      "  result = method(y)\n"
     ]
    }
   ],
   "source": [
    "# CTR: # clicks by unique users / # views by unique users \n",
    "\n",
    "print(df[df['action'] == True].mean())\n",
    "\n",
    "view = df[df['action'] == 'view']\n",
    "click = df[df['action'] == 'click']\n",
    "\n",
    "vExp = view[view['group'] == 'experiment'] \n",
    "vCon = view[view['group'] == 'control']\n",
    "\n",
    "cExp = click[click['group'] == 'experiment'] \n",
    "cCon = click[click['group'] == 'control']\n",
    "\n",
    "#rExp = len(cExp) / len(vExp)\n",
    "#rCon = len(cCon) / len(vCon)\n",
    "\n",
    "print(\"the CTR for experiment: \", rExp *100 )\n",
    "print(\"the CTR for control: \", rCon * 100 )"
   ]
  },
  {
   "cell_type": "markdown",
   "metadata": {},
   "source": [
    "### 8. Find the difference in click-through rate between the two groups."
   ]
  },
  {
   "cell_type": "code",
   "execution_count": 462,
   "metadata": {},
   "outputs": [
    {
     "name": "stdout",
     "output_type": "stream",
     "text": [
      "the diff of the rate is:  1.0404752037574239\n"
     ]
    },
    {
     "data": {
      "text/plain": [
       "0.14823008849557523"
      ]
     },
     "execution_count": 462,
     "metadata": {},
     "output_type": "execute_result"
    }
   ],
   "source": [
    "diff = rExp - rCon\n",
    "print(\"the diff of the rate is: \", diff * 100)\n",
    "\n",
    "# % of cliks\n",
    "df.action.mean()"
   ]
  },
  {
   "cell_type": "markdown",
   "metadata": {},
   "source": [
    "### 9. Use bootstraping to simulate the sampling distribution for the difference in proportions."
   ]
  },
  {
   "cell_type": "code",
   "execution_count": 467,
   "metadata": {
    "scrolled": true
   },
   "outputs": [
    {
     "name": "stdout",
     "output_type": "stream",
     "text": [
      "total mean:  14.823008849557523\n",
      "control mean:  14.150943396226415\n",
      "expremient mean:  4.25531914893617\n"
     ]
    }
   ],
   "source": [
    "sample_data = df.sample(200)\n",
    "exper, control, diffs = [], [], []\n",
    "for _ in range(10000):\n",
    "    bootsamp = sample_data.sample(200, replace = True)\n",
    "    \n",
    "    exper_mean = bootsamp[bootsamp['group'] == 'experiment']['action'].mean()\n",
    "    control_mean = bootsamp[bootsamp['group'] == 'control']['action'].mean()\n",
    "\n",
    "    diffs.append(control_mean - exper_mean)\n",
    "    \n",
    "print(\"total mean: \" , df['action'].mean() * 100)\n",
    "print(\"control mean: \" , control_mean * 100)\n",
    "print(\"expremient mean: \" ,exper_mean * 100)\n"
   ]
  },
  {
   "cell_type": "markdown",
   "metadata": {},
   "source": [
    "### 10. Simulate the null distribution with a mean of zero and use the standard deviation from the sampling distribution obtained in the prevous step."
   ]
  },
  {
   "cell_type": "code",
   "execution_count": 464,
   "metadata": {},
   "outputs": [
    {
     "name": "stdout",
     "output_type": "stream",
     "text": [
      "-0.1322140807830783 0.03636363636363635\n"
     ]
    }
   ],
   "source": [
    "low, high = np.percentile(diffs, 2.5), np.percentile(diffs, 97.5)\n",
    "print(low, high)"
   ]
  },
  {
   "cell_type": "markdown",
   "metadata": {},
   "source": [
    "### 11. Find the p-value"
   ]
  },
  {
   "cell_type": "code",
   "execution_count": 465,
   "metadata": {},
   "outputs": [
    {
     "data": {
      "image/png": "[encoded data removed]",
      "text/plain": [
       "<Figure size 432x288 with 1 Axes>"
      ]
     },
     "metadata": {
      "needs_background": "light"
     },
     "output_type": "display_data"
    }
   ],
   "source": [
    "plt.hist(diffs);\n",
    "plt.axvline(x=low, color = 'red')\n",
    "plt.axvline(x=high, color = 'red');\n"
   ]
  },
  {
   "cell_type": "markdown",
   "metadata": {},
   "source": [
    "### 12. Assuming your alpha is 5% shall you accept or reject the null hypothesis?"
   ]
  },
  {
   "cell_type": "code",
   "execution_count": 466,
   "metadata": {},
   "outputs": [
    {
     "data": {
      "text/plain": [
       "(-0.08382950822192518, 0.0860191545455714)"
      ]
     },
     "execution_count": 466,
     "metadata": {},
     "output_type": "execute_result"
    },
    {
     "data": {
      "image/png": "[encoded data removed]",
      "text/plain": [
       "<Figure size 432x288 with 1 Axes>"
      ]
     },
     "metadata": {
      "needs_background": "light"
     },
     "output_type": "display_data"
    }
   ],
   "source": [
    "null_vals = np.random.normal(0, np.std(diffs), 10000) \n",
    "plt.hist(null_vals)\n",
    "plt.axvline(x=np.mean(diffs), color = 'red')\n",
    "np.percentile(null_vals, 2.5), np.percentile(null_vals, 97.5)\n"
   ]
  },
  {
   "cell_type": "markdown",
   "metadata": {},
   "source": [
    "We reject the aletrnative hypothesis, the difference between the experimental group and the control group is not enough of a difference to make it matter.  So we accept the null hypothesis and decide that the difference in websites is not enought to get more people to click. The difference between the rates is only 1% and not enough to reject the 5& we decided we would use."
   ]
  },
  {
   "cell_type": "code",
   "execution_count": null,
   "metadata": {},
   "outputs": [],
   "source": []
  },
  {
   "cell_type": "code",
   "execution_count": null,
   "metadata": {},
   "outputs": [],
   "source": []
  }
 ],
 "metadata": {
  "kernelspec": {
   "display_name": "Python 3",
   "language": "python",
   "name": "python3"
  },
  "language_info": {
   "codemirror_mode": {
    "name": "ipython",
    "version": 3
   },
   "file_extension": ".py",
   "mimetype": "text/x-python",
   "name": "python",
   "nbconvert_exporter": "python",
   "pygments_lexer": "ipython3",
   "version": "3.7.3"
  }
 },
 "nbformat": 4,
 "nbformat_minor": 2
}
