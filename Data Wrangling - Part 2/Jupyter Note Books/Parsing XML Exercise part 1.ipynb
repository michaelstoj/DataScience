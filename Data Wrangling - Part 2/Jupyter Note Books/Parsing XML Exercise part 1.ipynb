{
 "cells": [
  {
   "cell_type": "code",
   "execution_count": 1,
   "metadata": {},
   "outputs": [],
   "source": [
    "#!/usr/bin/env python\n",
    "# Your task here is to extract data from xml on authors of an article\n",
    "# and add it to a list, one item for an author.\n",
    "# See the provided data structure for the expected format.\n",
    "# The tags for first name, surname and email should map directly\n",
    "# to the dictionary keys"
   ]
  },
  {
   "cell_type": "code",
   "execution_count": 1,
   "metadata": {},
   "outputs": [],
   "source": [
    "import xml.etree.ElementTree as ET\n",
    "\n",
    "article_file = \"exampleResearchArticle.xml\""
   ]
  },
  {
   "cell_type": "code",
   "execution_count": 5,
   "metadata": {},
   "outputs": [],
   "source": [
    "def get_root(fname):\n",
    "    \n",
    "    #Your code goes here\n",
    "    tree = ET.parse(fname)\n",
    "    root = tree.getroot()\n",
    "    \n",
    "    return root"
   ]
  },
  {
   "cell_type": "code",
   "execution_count": 24,
   "metadata": {},
   "outputs": [],
   "source": [
    "def get_authors(root):\n",
    "    \n",
    "    #Your code goes here    \n",
    "    authors = []\n",
    "    for author in root.findall('./fm/bibl/aug/au'):\n",
    "        data = {\n",
    "            \"first\" : author[1].text,\n",
    "            \"last\" : author[0].text,\n",
    "            \"email\" : author.find('email').text\n",
    "        }\n",
    "        \n",
    "        authors.append(data)\n",
    "    \n",
    "    return authors"
   ]
  },
  {
   "cell_type": "code",
   "execution_count": 25,
   "metadata": {},
   "outputs": [
    {
     "name": "stdout",
     "output_type": "stream",
     "text": [
      "[{'email': 'omer@extremegate.com', 'first': 'Omer', 'last': 'Mei-Dan'},\n",
      " {'email': 'mcarmont@hotmail.com', 'first': 'Mike', 'last': 'Carmont'},\n",
      " {'email': 'laver17@gmail.com', 'first': 'Lior', 'last': 'Laver'},\n",
      " {'email': 'nyska@internet-zahav.net', 'first': 'Meir', 'last': 'Nyska'},\n",
      " {'email': 'kammarh@gmail.com', 'first': 'Hagay', 'last': 'Kammar'},\n",
      " {'email': 'gideon.mann.md@gmail.com', 'first': 'Gideon', 'last': 'Mann'},\n",
      " {'email': 'barns.nz@gmail.com', 'first': 'Barnaby', 'last': 'Clarck'},\n",
      " {'email': 'eukots@gmail.com', 'first': 'Eugene', 'last': 'Kots'}]\n"
     ]
    }
   ],
   "source": [
    "from pprint import pprint\n",
    "\n",
    "root = get_root(article_file)\n",
    "data = get_authors(root)\n",
    "\n",
    "pprint(data)\n"
   ]
  },
  {
   "cell_type": "code",
   "execution_count": null,
   "metadata": {},
   "outputs": [],
   "source": []
  }
 ],
 "metadata": {
  "kernelspec": {
   "display_name": "Python 3",
   "language": "python",
   "name": "python3"
  },
  "language_info": {
   "codemirror_mode": {
    "name": "ipython",
    "version": 3
   },
   "file_extension": ".py",
   "mimetype": "text/x-python",
   "name": "python",
   "nbconvert_exporter": "python",
   "pygments_lexer": "ipython3",
   "version": "3.7.3"
  }
 },
 "nbformat": 4,
 "nbformat_minor": 2
}
