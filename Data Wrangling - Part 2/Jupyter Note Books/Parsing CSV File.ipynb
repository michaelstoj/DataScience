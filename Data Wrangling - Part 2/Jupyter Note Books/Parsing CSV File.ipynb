{
 "cells": [
  {
   "cell_type": "code",
   "execution_count": 1,
   "metadata": {},
   "outputs": [],
   "source": [
    "datafile = \"beatles-diskography.csv\""
   ]
  },
  {
   "cell_type": "code",
   "execution_count": 2,
   "metadata": {},
   "outputs": [],
   "source": [
    "def parse_file(datafile):\n",
    "    data = []\n",
    "    counter  = 0\n",
    "    with open(datafile, \"r\") as f:\n",
    "        header = f.readline().strip().split(',')\n",
    "        for line in f:\n",
    "            if counter == 13:\n",
    "                break\n",
    "            line_items = line.strip().split(',')\n",
    "            d = {}\n",
    "                \n",
    "            for field_index, item in enumerate(line_items):\n",
    "                d[header[field_index].strip()] = item.strip()\n",
    "            data.append(d)            \n",
    "            counter +=1\n",
    "    return data"
   ]
  },
  {
   "cell_type": "code",
   "execution_count": 3,
   "metadata": {},
   "outputs": [
    {
     "name": "stdout",
     "output_type": "stream",
     "text": [
      "13\n"
     ]
    }
   ],
   "source": [
    "d = parse_file(datafile)\n",
    "print(len(d))\n"
   ]
  },
  {
   "cell_type": "code",
   "execution_count": 4,
   "metadata": {},
   "outputs": [
    {
     "data": {
      "text/plain": [
       "{'Title': 'Please Please Me',\n",
       " 'Released': '22-Mar-63',\n",
       " 'Label': 'Parlophone(UK)',\n",
       " 'UK Chart Position': '1',\n",
       " 'US Chart Position': '-',\n",
       " 'BPI Certification': 'Gold',\n",
       " 'RIAA Certification': 'Platinum'}"
      ]
     },
     "execution_count": 4,
     "metadata": {},
     "output_type": "execute_result"
    }
   ],
   "source": [
    "d[0]"
   ]
  },
  {
   "cell_type": "code",
   "execution_count": 5,
   "metadata": {},
   "outputs": [
    {
     "data": {
      "text/plain": [
       "{'Title': '',\n",
       " 'Released': '10-Jul-64',\n",
       " 'Label': 'Parlophone(UK)',\n",
       " 'UK Chart Position': '1',\n",
       " 'US Chart Position': '-',\n",
       " 'BPI Certification': 'Gold',\n",
       " 'RIAA Certification': ''}"
      ]
     },
     "execution_count": 5,
     "metadata": {},
     "output_type": "execute_result"
    }
   ],
   "source": [
    "d[9]"
   ]
  },
  {
   "cell_type": "code",
   "execution_count": 6,
   "metadata": {},
   "outputs": [],
   "source": [
    "import csv"
   ]
  },
  {
   "cell_type": "code",
   "execution_count": 7,
   "metadata": {},
   "outputs": [
    {
     "name": "stdout",
     "output_type": "stream",
     "text": [
      "['Title', 'Released', 'Label', 'UK Chart Position', 'US Chart Position', 'BPI Certification', 'RIAA Certification']\n",
      "['Please Please Me', '22-Mar-63', 'Parlophone(UK)', '1', '-', 'Gold', 'Platinum']\n",
      "['With the Beatles', '22-Nov-63', 'Parlophone(UK)', '1', '-', 'Platinum', 'Gold']\n",
      "['Beatlemania! With the Beatles', '25-Nov-63', 'Capitol(CAN)', '-', '-', '', '']\n",
      "['Introducing... The Beatles', '10-Jan-64', 'Vee-Jay(US)', '-', '2', '', '']\n",
      "['Meet the Beatles!', '20-Jan-64', 'Capitol(US)', '-', '1', '', '5xPlatinum']\n",
      "['Twist and Shout', '3-Feb-64', 'Capitol(CAN)', '-', '-', '', '']\n",
      "[\"The Beatles' Second Album\", '10-Apr-64', 'Capitol(US)', '-', '1', '', '2xPlatinum']\n",
      "[\"The Beatles' Long Tall Sally\", '11-May-64', 'Capitol(CAN)', '-', '-', '', '']\n",
      "[\"A Hard Day's Night\", '26-Jun-64', 'United Artists(US)[C]', '-', '1', '', '4xPlatinum']\n",
      "['', '10-Jul-64', 'Parlophone(UK)', '1', '-', 'Gold', '']\n",
      "['Something New', '20-Jul-64', 'Capitol(US)', '-', '2', '', 'Platinum']\n",
      "['Beatles for Sale', '4-Dec-64', 'Parlophone(UK)', '1', '-', 'Gold', 'Platinum']\n",
      "[\"Beatles '65\", '15-Dec-64', 'Capitol(US)', '-', '1', '', '3xPlatinum']\n",
      "['Beatles VI', '14-Jun-65', 'Parlophone(NZ), Capitol(US)', '-', '1', '', 'Platinum']\n",
      "['Help!', '6-Aug-65', 'Parlophone(UK)', '1', '-', 'Platinum', '']\n",
      "['', '13-Aug-65', 'Capitol(US)[C]', '-', '1', '', '3xPlatinum']\n",
      "['Rubber Soul', '3-Dec-65', 'Parlophone(UK)', '1', '-', 'Platinum', '']\n",
      "['', '6-Dec-65', 'Capitol(US)[C]', '-', '1', '', '6xPlatinum']\n",
      "['Yesterday and Today', '15-Jun-66', 'Capitol(US)', '-', '1', '', '2xPlatinum']\n",
      "['Revolver', '5-Aug-66', 'Parlophone(UK)', '1', '-', 'Platinum', '']\n",
      "['', '8-Aug-66', 'Capitol(US)[C]', '-', '1', '', '5xPlatinum']\n",
      "[\"Sgt. Pepper's Lonely Hearts Club Band\", '1-Jun-67', 'Parlophone(UK), Capitol(US)', '1', '1', '3xPlatinum', '11xPlatinum']\n",
      "['Magical Mystery Tour', '27-Nov-67', 'Parlophone(UK), Capitol(US)', '31[D]', '1', 'Platinum', '6xPlatinum']\n",
      "['The Beatles', '22-Nov-68', 'Apple(UK), Capitol(US)', '1', '1', 'Platinum', '19xPlatinum']\n",
      "['Yellow Submarine', '13-Jan-69', 'Apple(UK), Capitol(US)', '3', '2', 'Silver', 'Platinum']\n",
      "['Abbey Road', '26-Sep-69', 'Apple(UK), Capitol(US)', '1', '1', '2xPlatinum', '12xPlatinum']\n",
      "['Let It Be', '8-May-70', 'Apple(UK),United Artists(US)', '1', '1', 'Gold', '4xPlatinum']\n"
     ]
    }
   ],
   "source": [
    "with open(datafile, \"r\") as f:\n",
    "    reader = csv.reader(f)\n",
    "\n",
    "    for row in reader:\n",
    "        print(row)"
   ]
  },
  {
   "cell_type": "code",
   "execution_count": 24,
   "metadata": {},
   "outputs": [
    {
     "name": "stdout",
     "output_type": "stream",
     "text": [
      "OrderedDict([('Title', 'Please Please Me'), ('Released', '22-Mar-63'), ('Label', 'Parlophone(UK)'), ('UK Chart Position', '1'), ('US Chart Position', '-'), ('BPI Certification', 'Gold'), ('RIAA Certification', 'Platinum')])\n",
      "OrderedDict([('Title', 'With the Beatles'), ('Released', '22-Nov-63'), ('Label', 'Parlophone(UK)'), ('UK Chart Position', '1'), ('US Chart Position', '-'), ('BPI Certification', 'Platinum'), ('RIAA Certification', 'Gold')])\n",
      "OrderedDict([('Title', 'Beatlemania! With the Beatles'), ('Released', '25-Nov-63'), ('Label', 'Capitol(CAN)'), ('UK Chart Position', '-'), ('US Chart Position', '-'), ('BPI Certification', ''), ('RIAA Certification', '')])\n",
      "OrderedDict([('Title', 'Introducing... The Beatles'), ('Released', '10-Jan-64'), ('Label', 'Vee-Jay(US)'), ('UK Chart Position', '-'), ('US Chart Position', '2'), ('BPI Certification', ''), ('RIAA Certification', '')])\n",
      "OrderedDict([('Title', 'Meet the Beatles!'), ('Released', '20-Jan-64'), ('Label', 'Capitol(US)'), ('UK Chart Position', '-'), ('US Chart Position', '1'), ('BPI Certification', ''), ('RIAA Certification', '5xPlatinum')])\n",
      "OrderedDict([('Title', 'Twist and Shout'), ('Released', '3-Feb-64'), ('Label', 'Capitol(CAN)'), ('UK Chart Position', '-'), ('US Chart Position', '-'), ('BPI Certification', ''), ('RIAA Certification', '')])\n",
      "OrderedDict([('Title', \"The Beatles' Second Album\"), ('Released', '10-Apr-64'), ('Label', 'Capitol(US)'), ('UK Chart Position', '-'), ('US Chart Position', '1'), ('BPI Certification', ''), ('RIAA Certification', '2xPlatinum')])\n",
      "OrderedDict([('Title', \"The Beatles' Long Tall Sally\"), ('Released', '11-May-64'), ('Label', 'Capitol(CAN)'), ('UK Chart Position', '-'), ('US Chart Position', '-'), ('BPI Certification', ''), ('RIAA Certification', '')])\n",
      "OrderedDict([('Title', \"A Hard Day's Night\"), ('Released', '26-Jun-64'), ('Label', 'United Artists(US)[C]'), ('UK Chart Position', '-'), ('US Chart Position', '1'), ('BPI Certification', ''), ('RIAA Certification', '4xPlatinum')])\n",
      "OrderedDict([('Title', ''), ('Released', '10-Jul-64'), ('Label', 'Parlophone(UK)'), ('UK Chart Position', '1'), ('US Chart Position', '-'), ('BPI Certification', 'Gold'), ('RIAA Certification', '')])\n",
      "OrderedDict([('Title', 'Something New'), ('Released', '20-Jul-64'), ('Label', 'Capitol(US)'), ('UK Chart Position', '-'), ('US Chart Position', '2'), ('BPI Certification', ''), ('RIAA Certification', 'Platinum')])\n",
      "OrderedDict([('Title', 'Beatles for Sale'), ('Released', '4-Dec-64'), ('Label', 'Parlophone(UK)'), ('UK Chart Position', '1'), ('US Chart Position', '-'), ('BPI Certification', 'Gold'), ('RIAA Certification', 'Platinum')])\n",
      "OrderedDict([('Title', \"Beatles '65\"), ('Released', '15-Dec-64'), ('Label', 'Capitol(US)'), ('UK Chart Position', '-'), ('US Chart Position', '1'), ('BPI Certification', ''), ('RIAA Certification', '3xPlatinum')])\n",
      "OrderedDict([('Title', 'Beatles VI'), ('Released', '14-Jun-65'), ('Label', 'Parlophone(NZ), Capitol(US)'), ('UK Chart Position', '-'), ('US Chart Position', '1'), ('BPI Certification', ''), ('RIAA Certification', 'Platinum')])\n",
      "OrderedDict([('Title', 'Help!'), ('Released', '6-Aug-65'), ('Label', 'Parlophone(UK)'), ('UK Chart Position', '1'), ('US Chart Position', '-'), ('BPI Certification', 'Platinum'), ('RIAA Certification', '')])\n",
      "OrderedDict([('Title', ''), ('Released', '13-Aug-65'), ('Label', 'Capitol(US)[C]'), ('UK Chart Position', '-'), ('US Chart Position', '1'), ('BPI Certification', ''), ('RIAA Certification', '3xPlatinum')])\n",
      "OrderedDict([('Title', 'Rubber Soul'), ('Released', '3-Dec-65'), ('Label', 'Parlophone(UK)'), ('UK Chart Position', '1'), ('US Chart Position', '-'), ('BPI Certification', 'Platinum'), ('RIAA Certification', '')])\n",
      "OrderedDict([('Title', ''), ('Released', '6-Dec-65'), ('Label', 'Capitol(US)[C]'), ('UK Chart Position', '-'), ('US Chart Position', '1'), ('BPI Certification', ''), ('RIAA Certification', '6xPlatinum')])\n",
      "OrderedDict([('Title', 'Yesterday and Today'), ('Released', '15-Jun-66'), ('Label', 'Capitol(US)'), ('UK Chart Position', '-'), ('US Chart Position', '1'), ('BPI Certification', ''), ('RIAA Certification', '2xPlatinum')])\n",
      "OrderedDict([('Title', 'Revolver'), ('Released', '5-Aug-66'), ('Label', 'Parlophone(UK)'), ('UK Chart Position', '1'), ('US Chart Position', '-'), ('BPI Certification', 'Platinum'), ('RIAA Certification', '')])\n",
      "OrderedDict([('Title', ''), ('Released', '8-Aug-66'), ('Label', 'Capitol(US)[C]'), ('UK Chart Position', '-'), ('US Chart Position', '1'), ('BPI Certification', ''), ('RIAA Certification', '5xPlatinum')])\n",
      "OrderedDict([('Title', \"Sgt. Pepper's Lonely Hearts Club Band\"), ('Released', '1-Jun-67'), ('Label', 'Parlophone(UK), Capitol(US)'), ('UK Chart Position', '1'), ('US Chart Position', '1'), ('BPI Certification', '3xPlatinum'), ('RIAA Certification', '11xPlatinum')])\n",
      "OrderedDict([('Title', 'Magical Mystery Tour'), ('Released', '27-Nov-67'), ('Label', 'Parlophone(UK), Capitol(US)'), ('UK Chart Position', '31[D]'), ('US Chart Position', '1'), ('BPI Certification', 'Platinum'), ('RIAA Certification', '6xPlatinum')])\n",
      "OrderedDict([('Title', 'The Beatles'), ('Released', '22-Nov-68'), ('Label', 'Apple(UK), Capitol(US)'), ('UK Chart Position', '1'), ('US Chart Position', '1'), ('BPI Certification', 'Platinum'), ('RIAA Certification', '19xPlatinum')])\n",
      "OrderedDict([('Title', 'Yellow Submarine'), ('Released', '13-Jan-69'), ('Label', 'Apple(UK), Capitol(US)'), ('UK Chart Position', '3'), ('US Chart Position', '2'), ('BPI Certification', 'Silver'), ('RIAA Certification', 'Platinum')])\n",
      "OrderedDict([('Title', 'Abbey Road'), ('Released', '26-Sep-69'), ('Label', 'Apple(UK), Capitol(US)'), ('UK Chart Position', '1'), ('US Chart Position', '1'), ('BPI Certification', '2xPlatinum'), ('RIAA Certification', '12xPlatinum')])\n",
      "OrderedDict([('Title', 'Let It Be'), ('Released', '8-May-70'), ('Label', 'Apple(UK),United Artists(US)'), ('UK Chart Position', '1'), ('US Chart Position', '1'), ('BPI Certification', 'Gold'), ('RIAA Certification', '4xPlatinum')])\n"
     ]
    }
   ],
   "source": [
    "with open(datafile, 'r') as f:\n",
    "    reader = csv.DictReader(f)\n",
    "\n",
    "    for row in reader:\n",
    "        print(row)"
   ]
  },
  {
   "cell_type": "code",
   "execution_count": null,
   "metadata": {},
   "outputs": [],
   "source": []
  }
 ],
 "metadata": {
  "kernelspec": {
   "display_name": "Python 3",
   "language": "python",
   "name": "python3"
  },
  "language_info": {
   "codemirror_mode": {
    "name": "ipython",
    "version": 3
   },
   "file_extension": ".py",
   "mimetype": "text/x-python",
   "name": "python",
   "nbconvert_exporter": "python",
   "pygments_lexer": "ipython3",
   "version": "3.7.3"
  }
 },
 "nbformat": 4,
 "nbformat_minor": 2
}
